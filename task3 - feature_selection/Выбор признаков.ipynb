{
 "cells": [
  {
   "cell_type": "markdown",
   "metadata": {},
   "source": [
    "# Методы отбора признаков, регуляризации и снижения размерности"
   ]
  },
  {
   "cell_type": "markdown",
   "metadata": {},
   "source": [
    "## Цели методов"
   ]
  },
  {
   "cell_type": "markdown",
   "metadata": {},
   "source": [
    "* повышение точности прогноза за счет избавления от шума\n",
    "* определение списка наиболее значимых факторов"
   ]
  },
  {
   "cell_type": "markdown",
   "metadata": {},
   "source": [
    "## Исходные данные"
   ]
  },
  {
   "cell_type": "code",
   "execution_count": 1,
   "metadata": {},
   "outputs": [
    {
     "data": {
      "text/html": [
       "<div>\n",
       "<style scoped>\n",
       "    .dataframe tbody tr th:only-of-type {\n",
       "        vertical-align: middle;\n",
       "    }\n",
       "\n",
       "    .dataframe tbody tr th {\n",
       "        vertical-align: top;\n",
       "    }\n",
       "\n",
       "    .dataframe thead th {\n",
       "        text-align: right;\n",
       "    }\n",
       "</style>\n",
       "<table border=\"1\" class=\"dataframe\">\n",
       "  <thead>\n",
       "    <tr style=\"text-align: right;\">\n",
       "      <th></th>\n",
       "      <th>Population</th>\n",
       "      <th>Income</th>\n",
       "      <th>Illiteracy</th>\n",
       "      <th>Life.Exp</th>\n",
       "      <th>Murder</th>\n",
       "      <th>HS.Grad</th>\n",
       "      <th>Frost</th>\n",
       "      <th>Area</th>\n",
       "    </tr>\n",
       "  </thead>\n",
       "  <tbody>\n",
       "    <tr>\n",
       "      <th>AL</th>\n",
       "      <td>3615</td>\n",
       "      <td>3624</td>\n",
       "      <td>2.1</td>\n",
       "      <td>69.05</td>\n",
       "      <td>15.1</td>\n",
       "      <td>41.3</td>\n",
       "      <td>20</td>\n",
       "      <td>50708</td>\n",
       "    </tr>\n",
       "    <tr>\n",
       "      <th>AK</th>\n",
       "      <td>365</td>\n",
       "      <td>6315</td>\n",
       "      <td>1.5</td>\n",
       "      <td>69.31</td>\n",
       "      <td>11.3</td>\n",
       "      <td>66.7</td>\n",
       "      <td>152</td>\n",
       "      <td>566432</td>\n",
       "    </tr>\n",
       "    <tr>\n",
       "      <th>AZ</th>\n",
       "      <td>2212</td>\n",
       "      <td>4530</td>\n",
       "      <td>1.8</td>\n",
       "      <td>70.55</td>\n",
       "      <td>7.8</td>\n",
       "      <td>58.1</td>\n",
       "      <td>15</td>\n",
       "      <td>113417</td>\n",
       "    </tr>\n",
       "    <tr>\n",
       "      <th>AR</th>\n",
       "      <td>2110</td>\n",
       "      <td>3378</td>\n",
       "      <td>1.9</td>\n",
       "      <td>70.66</td>\n",
       "      <td>10.1</td>\n",
       "      <td>39.9</td>\n",
       "      <td>65</td>\n",
       "      <td>51945</td>\n",
       "    </tr>\n",
       "    <tr>\n",
       "      <th>CA</th>\n",
       "      <td>21198</td>\n",
       "      <td>5114</td>\n",
       "      <td>1.1</td>\n",
       "      <td>71.71</td>\n",
       "      <td>10.3</td>\n",
       "      <td>62.6</td>\n",
       "      <td>20</td>\n",
       "      <td>156361</td>\n",
       "    </tr>\n",
       "  </tbody>\n",
       "</table>\n",
       "</div>"
      ],
      "text/plain": [
       "    Population  Income  Illiteracy  Life.Exp  Murder  HS.Grad  Frost    Area\n",
       "AL        3615    3624         2.1     69.05    15.1     41.3     20   50708\n",
       "AK         365    6315         1.5     69.31    11.3     66.7    152  566432\n",
       "AZ        2212    4530         1.8     70.55     7.8     58.1     15  113417\n",
       "AR        2110    3378         1.9     70.66    10.1     39.9     65   51945\n",
       "CA       21198    5114         1.1     71.71    10.3     62.6     20  156361"
      ]
     },
     "execution_count": 1,
     "metadata": {},
     "output_type": "execute_result"
    }
   ],
   "source": [
    "import pandas as pd\n",
    "\n",
    "\n",
    "data = pd.read_csv('statedata.csv', header=0, index_col=0)\n",
    "target_name = 'Life.Exp'\n",
    "\n",
    "X = data.drop(target_name, axis=1)\n",
    "y = data[target_name].values.flatten()\n",
    "\n",
    "data.head()"
   ]
  },
  {
   "cell_type": "markdown",
   "metadata": {},
   "source": [
    "## Пошаговая процедура"
   ]
  },
  {
   "cell_type": "markdown",
   "metadata": {},
   "source": [
    "Действия:\n",
    "* добавление признаков\n",
    "* исключение признаков\n",
    "\n",
    "Критерии:\n",
    "* p-value\n",
    "* AIC / BIC\n",
    "* $R^{2}_{adj}$\n",
    "* целевые критерии (например, качество прогнозов)\n"
   ]
  },
  {
   "cell_type": "markdown",
   "metadata": {},
   "source": [
    "### Класс для линейной регрессии со статистиками"
   ]
  },
  {
   "cell_type": "code",
   "execution_count": 2,
   "metadata": {},
   "outputs": [
    {
     "data": {
      "text/html": [
       "<div>\n",
       "<style scoped>\n",
       "    .dataframe tbody tr th:only-of-type {\n",
       "        vertical-align: middle;\n",
       "    }\n",
       "\n",
       "    .dataframe tbody tr th {\n",
       "        vertical-align: top;\n",
       "    }\n",
       "\n",
       "    .dataframe thead th {\n",
       "        text-align: right;\n",
       "    }\n",
       "</style>\n",
       "<table border=\"1\" class=\"dataframe\">\n",
       "  <thead>\n",
       "    <tr style=\"text-align: right;\">\n",
       "      <th></th>\n",
       "      <th>estimate</th>\n",
       "      <th>std_error</th>\n",
       "      <th>t_value</th>\n",
       "      <th>p_value</th>\n",
       "    </tr>\n",
       "  </thead>\n",
       "  <tbody>\n",
       "    <tr>\n",
       "      <th>__intercept__</th>\n",
       "      <td>70.9432</td>\n",
       "      <td>1.748</td>\n",
       "      <td>40.5859</td>\n",
       "      <td>0.0</td>\n",
       "    </tr>\n",
       "    <tr>\n",
       "      <th>Population</th>\n",
       "      <td>0.0001</td>\n",
       "      <td>0.0</td>\n",
       "      <td>1.7748</td>\n",
       "      <td>0.0832</td>\n",
       "    </tr>\n",
       "    <tr>\n",
       "      <th>Income</th>\n",
       "      <td>-0.0</td>\n",
       "      <td>0.0002</td>\n",
       "      <td>-0.0892</td>\n",
       "      <td>0.9293</td>\n",
       "    </tr>\n",
       "    <tr>\n",
       "      <th>Illiteracy</th>\n",
       "      <td>0.0338</td>\n",
       "      <td>0.3663</td>\n",
       "      <td>0.0923</td>\n",
       "      <td>0.9269</td>\n",
       "    </tr>\n",
       "    <tr>\n",
       "      <th>Murder</th>\n",
       "      <td>-0.3011</td>\n",
       "      <td>0.0466</td>\n",
       "      <td>-6.459</td>\n",
       "      <td>0.0</td>\n",
       "    </tr>\n",
       "    <tr>\n",
       "      <th>HS.Grad</th>\n",
       "      <td>0.0489</td>\n",
       "      <td>0.0233</td>\n",
       "      <td>2.0979</td>\n",
       "      <td>0.042</td>\n",
       "    </tr>\n",
       "    <tr>\n",
       "      <th>Frost</th>\n",
       "      <td>-0.0057</td>\n",
       "      <td>0.0031</td>\n",
       "      <td>-1.8246</td>\n",
       "      <td>0.0752</td>\n",
       "    </tr>\n",
       "    <tr>\n",
       "      <th>Area</th>\n",
       "      <td>-0.0</td>\n",
       "      <td>0.0</td>\n",
       "      <td>-0.0443</td>\n",
       "      <td>0.9649</td>\n",
       "    </tr>\n",
       "    <tr>\n",
       "      <th>----</th>\n",
       "      <td>----</td>\n",
       "      <td>----</td>\n",
       "      <td>----</td>\n",
       "      <td>----</td>\n",
       "    </tr>\n",
       "    <tr>\n",
       "      <th>R-squared</th>\n",
       "      <td>0.7362</td>\n",
       "      <td>nan</td>\n",
       "      <td>nan</td>\n",
       "      <td>nan</td>\n",
       "    </tr>\n",
       "    <tr>\n",
       "      <th>R-squared adjusted</th>\n",
       "      <td>0.6922</td>\n",
       "      <td>nan</td>\n",
       "      <td>nan</td>\n",
       "      <td>nan</td>\n",
       "    </tr>\n",
       "    <tr>\n",
       "      <th>AIC</th>\n",
       "      <td>119.7092</td>\n",
       "      <td>nan</td>\n",
       "      <td>nan</td>\n",
       "      <td>nan</td>\n",
       "    </tr>\n",
       "  </tbody>\n",
       "</table>\n",
       "</div>"
      ],
      "text/plain": [
       "                    estimate std_error  t_value p_value\n",
       "__intercept__        70.9432     1.748  40.5859     0.0\n",
       "Population            0.0001       0.0   1.7748  0.0832\n",
       "Income                  -0.0    0.0002  -0.0892  0.9293\n",
       "Illiteracy            0.0338    0.3663   0.0923  0.9269\n",
       "Murder               -0.3011    0.0466   -6.459     0.0\n",
       "HS.Grad               0.0489    0.0233   2.0979   0.042\n",
       "Frost                -0.0057    0.0031  -1.8246  0.0752\n",
       "Area                    -0.0       0.0  -0.0443  0.9649\n",
       "----                    ----      ----     ----    ----\n",
       "R-squared             0.7362       nan      nan     nan\n",
       "R-squared adjusted    0.6922       nan      nan     nan\n",
       "AIC                 119.7092       nan      nan     nan"
      ]
     },
     "execution_count": 2,
     "metadata": {},
     "output_type": "execute_result"
    }
   ],
   "source": [
    "import numpy as np\n",
    "from scipy.stats import t\n",
    "from sklearn.linear_model import LinearRegression\n",
    "from sklearn.metrics import r2_score\n",
    "\n",
    "class AugmentedLinearRegression:\n",
    "    def __init__(self):\n",
    "        self.features = None\n",
    "        self.estimates = None\n",
    "        self.estimates_cov = None\n",
    "        self.std_errors = None\n",
    "        self.t_values = None\n",
    "        self.p_values = None\n",
    "        self.r_squared = None\n",
    "        self.r_squared_adj = None\n",
    "        self.aic = None\n",
    "        self.model = LinearRegression()\n",
    "        self.sigma2_hat = None\n",
    "        self.df = None\n",
    "        self.loglike = None\n",
    "        \n",
    "    def fit(self, X, y):\n",
    "        assert isinstance(X, pd.DataFrame)\n",
    "        m, n = X.shape\n",
    "        self.df = m - n - 1\n",
    "        self.model.fit(X, y)\n",
    "        y_hat = self.model.predict(X)\n",
    "        self.features = ['__intercept__'] + list(X.columns)\n",
    "        self.estimates = np.append(self.model.intercept_, self.model.coef_)\n",
    "        self.sigma2_hat = ((y - y_hat) ** 2).sum() / self.df\n",
    "        feature_matrix = np.c_[np.ones((m, 1)), X.values]\n",
    "        self.estimates_cov = (self.sigma2_hat * np.linalg.inv(np.dot(feature_matrix.T, feature_matrix)))\n",
    "        self.std_errors = np.diagonal(self.estimates_cov) ** 0.5\n",
    "        self.t_values = self.estimates / self.std_errors\n",
    "        self.p_values = 2 * (1 - t.cdf(np.abs(self.t_values), df=self.df))\n",
    "        self.r_squared = r2_score(y_true=y, y_pred=y_hat)\n",
    "        self.r_squared_adj = 1 - (1 - self.r_squared) * (m - 1) / self.df\n",
    "        sigma2_loglike = ((y - y_hat) ** 2).mean()\n",
    "        self.loglike = -m/2 * np.log(2 * np.pi) - m * np.log(sigma2_loglike ** 0.5) - 1/(2 * sigma2_loglike) * ((y - y_hat) ** 2).sum()\n",
    "        self.aic = 2 * (n + 1) - 2 * self.loglike\n",
    "        return self\n",
    "    \n",
    "    def show_stats(self, n_digits=-1):\n",
    "        assert self.estimates is not None\n",
    "        stats_df = np.c_[self.estimates, self.std_errors, self.t_values, self.p_values]\n",
    "        breaks = [['----'] * 4]\n",
    "        global_stats = np.zeros((3, 4), np.float64) + np.nan\n",
    "        global_stats[:, 0] = [self.r_squared, self.r_squared_adj, self.aic]\n",
    "        if n_digits >= 0:\n",
    "            stats_df = np.round(stats_df, n_digits)\n",
    "            global_stats = np.round(global_stats, n_digits)\n",
    "        stats_df = pd.DataFrame(\n",
    "            np.r_[stats_df, breaks, global_stats],\n",
    "            columns=['estimate', 'std_error', 't_value', 'p_value'], \n",
    "            index=self.features + ['----', 'R-squared', 'R-squared adjusted', 'AIC']\n",
    "        )\n",
    "        \n",
    "        return stats_df\n",
    "    \n",
    "    def predict(self, X):\n",
    "        return self.model.predict(X)\n",
    "    \n",
    "model = AugmentedLinearRegression()\n",
    "model.fit(X, y)\n",
    "model.show_stats(4)\n",
    "    "
   ]
  },
  {
   "cell_type": "markdown",
   "metadata": {},
   "source": [
    "### Пошаговое исключение регрессоров"
   ]
  },
  {
   "cell_type": "code",
   "execution_count": 3,
   "metadata": {},
   "outputs": [
    {
     "data": {
      "text/html": [
       "<div>\n",
       "<style scoped>\n",
       "    .dataframe tbody tr th:only-of-type {\n",
       "        vertical-align: middle;\n",
       "    }\n",
       "\n",
       "    .dataframe tbody tr th {\n",
       "        vertical-align: top;\n",
       "    }\n",
       "\n",
       "    .dataframe thead th {\n",
       "        text-align: right;\n",
       "    }\n",
       "</style>\n",
       "<table border=\"1\" class=\"dataframe\">\n",
       "  <thead>\n",
       "    <tr style=\"text-align: right;\">\n",
       "      <th></th>\n",
       "      <th>estimate</th>\n",
       "      <th>std_error</th>\n",
       "      <th>t_value</th>\n",
       "      <th>p_value</th>\n",
       "    </tr>\n",
       "  </thead>\n",
       "  <tbody>\n",
       "    <tr>\n",
       "      <th>__intercept__</th>\n",
       "      <td>71.0271</td>\n",
       "      <td>0.9529</td>\n",
       "      <td>74.5415</td>\n",
       "      <td>0.0</td>\n",
       "    </tr>\n",
       "    <tr>\n",
       "      <th>Population</th>\n",
       "      <td>0.0001</td>\n",
       "      <td>0.0</td>\n",
       "      <td>1.996</td>\n",
       "      <td>0.052</td>\n",
       "    </tr>\n",
       "    <tr>\n",
       "      <th>Murder</th>\n",
       "      <td>-0.3001</td>\n",
       "      <td>0.0366</td>\n",
       "      <td>-8.1987</td>\n",
       "      <td>0.0</td>\n",
       "    </tr>\n",
       "    <tr>\n",
       "      <th>HS.Grad</th>\n",
       "      <td>0.0466</td>\n",
       "      <td>0.0148</td>\n",
       "      <td>3.1417</td>\n",
       "      <td>0.003</td>\n",
       "    </tr>\n",
       "    <tr>\n",
       "      <th>Frost</th>\n",
       "      <td>-0.0059</td>\n",
       "      <td>0.0024</td>\n",
       "      <td>-2.455</td>\n",
       "      <td>0.018</td>\n",
       "    </tr>\n",
       "    <tr>\n",
       "      <th>----</th>\n",
       "      <td>----</td>\n",
       "      <td>----</td>\n",
       "      <td>----</td>\n",
       "      <td>----</td>\n",
       "    </tr>\n",
       "    <tr>\n",
       "      <th>R-squared</th>\n",
       "      <td>0.736</td>\n",
       "      <td>nan</td>\n",
       "      <td>nan</td>\n",
       "      <td>nan</td>\n",
       "    </tr>\n",
       "    <tr>\n",
       "      <th>R-squared adjusted</th>\n",
       "      <td>0.7126</td>\n",
       "      <td>nan</td>\n",
       "      <td>nan</td>\n",
       "      <td>nan</td>\n",
       "    </tr>\n",
       "    <tr>\n",
       "      <th>AIC</th>\n",
       "      <td>113.7326</td>\n",
       "      <td>nan</td>\n",
       "      <td>nan</td>\n",
       "      <td>nan</td>\n",
       "    </tr>\n",
       "  </tbody>\n",
       "</table>\n",
       "</div>"
      ],
      "text/plain": [
       "                    estimate std_error  t_value p_value\n",
       "__intercept__        71.0271    0.9529  74.5415     0.0\n",
       "Population            0.0001       0.0    1.996   0.052\n",
       "Murder               -0.3001    0.0366  -8.1987     0.0\n",
       "HS.Grad               0.0466    0.0148   3.1417   0.003\n",
       "Frost                -0.0059    0.0024   -2.455   0.018\n",
       "----                    ----      ----     ----    ----\n",
       "R-squared              0.736       nan      nan     nan\n",
       "R-squared adjusted    0.7126       nan      nan     nan\n",
       "AIC                 113.7326       nan      nan     nan"
      ]
     },
     "execution_count": 3,
     "metadata": {},
     "output_type": "execute_result"
    }
   ],
   "source": [
    "X = data.drop(target_name, axis=1)\n",
    "model = AugmentedLinearRegression()\n",
    "model.fit(X, y)\n",
    "\n",
    "r2_bench = 0\n",
    "\n",
    "while model.r_squared_adj > r2_bench:  # целевой критерий - R^2 adjusted\n",
    "    X_bench = X.copy()\n",
    "    r2_bench = model.r_squared_adj\n",
    "    X.drop(X.columns[model.p_values[1:].argmax()], axis=1, inplace=True)  # убираем из таблицы признаков фактор с наибольшим p-value\n",
    "    model.fit(X, y)\n",
    "    \n",
    "model.fit(X_bench, y)\n",
    "model.show_stats(4)"
   ]
  },
  {
   "cell_type": "markdown",
   "metadata": {},
   "source": [
    "### Пошаговое добавление / исключение регрессоров"
   ]
  },
  {
   "cell_type": "code",
   "execution_count": 4,
   "metadata": {},
   "outputs": [
    {
     "data": {
      "text/html": [
       "<div>\n",
       "<style scoped>\n",
       "    .dataframe tbody tr th:only-of-type {\n",
       "        vertical-align: middle;\n",
       "    }\n",
       "\n",
       "    .dataframe tbody tr th {\n",
       "        vertical-align: top;\n",
       "    }\n",
       "\n",
       "    .dataframe thead th {\n",
       "        text-align: right;\n",
       "    }\n",
       "</style>\n",
       "<table border=\"1\" class=\"dataframe\">\n",
       "  <thead>\n",
       "    <tr style=\"text-align: right;\">\n",
       "      <th></th>\n",
       "      <th>estimate</th>\n",
       "      <th>std_error</th>\n",
       "      <th>t_value</th>\n",
       "      <th>p_value</th>\n",
       "    </tr>\n",
       "  </thead>\n",
       "  <tbody>\n",
       "    <tr>\n",
       "      <th>__intercept__</th>\n",
       "      <td>71.0271</td>\n",
       "      <td>0.9529</td>\n",
       "      <td>74.5415</td>\n",
       "      <td>0.0</td>\n",
       "    </tr>\n",
       "    <tr>\n",
       "      <th>Population</th>\n",
       "      <td>0.0001</td>\n",
       "      <td>0.0</td>\n",
       "      <td>1.996</td>\n",
       "      <td>0.052</td>\n",
       "    </tr>\n",
       "    <tr>\n",
       "      <th>Murder</th>\n",
       "      <td>-0.3001</td>\n",
       "      <td>0.0366</td>\n",
       "      <td>-8.1987</td>\n",
       "      <td>0.0</td>\n",
       "    </tr>\n",
       "    <tr>\n",
       "      <th>HS.Grad</th>\n",
       "      <td>0.0466</td>\n",
       "      <td>0.0148</td>\n",
       "      <td>3.1417</td>\n",
       "      <td>0.003</td>\n",
       "    </tr>\n",
       "    <tr>\n",
       "      <th>Frost</th>\n",
       "      <td>-0.0059</td>\n",
       "      <td>0.0024</td>\n",
       "      <td>-2.455</td>\n",
       "      <td>0.018</td>\n",
       "    </tr>\n",
       "    <tr>\n",
       "      <th>----</th>\n",
       "      <td>----</td>\n",
       "      <td>----</td>\n",
       "      <td>----</td>\n",
       "      <td>----</td>\n",
       "    </tr>\n",
       "    <tr>\n",
       "      <th>R-squared</th>\n",
       "      <td>0.736</td>\n",
       "      <td>nan</td>\n",
       "      <td>nan</td>\n",
       "      <td>nan</td>\n",
       "    </tr>\n",
       "    <tr>\n",
       "      <th>R-squared adjusted</th>\n",
       "      <td>0.7126</td>\n",
       "      <td>nan</td>\n",
       "      <td>nan</td>\n",
       "      <td>nan</td>\n",
       "    </tr>\n",
       "    <tr>\n",
       "      <th>AIC</th>\n",
       "      <td>113.7326</td>\n",
       "      <td>nan</td>\n",
       "      <td>nan</td>\n",
       "      <td>nan</td>\n",
       "    </tr>\n",
       "  </tbody>\n",
       "</table>\n",
       "</div>"
      ],
      "text/plain": [
       "                    estimate std_error  t_value p_value\n",
       "__intercept__        71.0271    0.9529  74.5415     0.0\n",
       "Population            0.0001       0.0    1.996   0.052\n",
       "Murder               -0.3001    0.0366  -8.1987     0.0\n",
       "HS.Grad               0.0466    0.0148   3.1417   0.003\n",
       "Frost                -0.0059    0.0024   -2.455   0.018\n",
       "----                    ----      ----     ----    ----\n",
       "R-squared              0.736       nan      nan     nan\n",
       "R-squared adjusted    0.7126       nan      nan     nan\n",
       "AIC                 113.7326       nan      nan     nan"
      ]
     },
     "execution_count": 4,
     "metadata": {},
     "output_type": "execute_result"
    }
   ],
   "source": [
    "from copy import deepcopy\n",
    "\n",
    "features = [col for col in data.columns if col != target_name]  # список всех признаков\n",
    "n_features = len(features)\n",
    "\n",
    "in_model_bench = [False] * n_features  # индикатор того, включен ли признак в модель\n",
    "r2_bench = 0\n",
    "done = False  # будем добавлять / исключать признаки, пока растет R^2 adjusted\n",
    "\n",
    "model = AugmentedLinearRegression()\n",
    "\n",
    "while not done:\n",
    "    \n",
    "    r2 = np.zeros(n_features, np.float64)\n",
    "    \n",
    "    for j in range(n_features):\n",
    "        in_model = deepcopy(in_model_bench)\n",
    "        if in_model[j] and sum(in_model):\n",
    "            continue  # не можем убрать единственный фактор\n",
    "        in_model[j] = not in_model[j]  # пробуем добавить новый признак в модель или убрать старый\n",
    "        X = data.drop(target_name, axis=1).loc[:, in_model]\n",
    "        model.fit(X, y)\n",
    "        r2[j] = model.r_squared_adj\n",
    "\n",
    "    k = r2.argmax()\n",
    "    if r2[k] > r2_bench:  # если удалось найти модель с лучшим R^2 adjusted\n",
    "        in_model_bench[k] = not in_model_bench[k]  # обновляем список факторов\n",
    "        r2_bench = r2[k]\n",
    "    else:\n",
    "        done = True\n",
    "        \n",
    "X = data.drop(target_name, axis=1).loc[:, in_model_bench]\n",
    "model.fit(X, y)\n",
    "model.show_stats(4)"
   ]
  },
  {
   "cell_type": "markdown",
   "metadata": {},
   "source": [
    "### Недостатки пошаговой процедуры"
   ]
  },
  {
   "cell_type": "markdown",
   "metadata": {},
   "source": [
    "* из-за последовательного характера добавления и исключения рассматриваются не все возможные комбинации признаков\n",
    "* нет четкого правила остановки в случае рассогласования критериев"
   ]
  },
  {
   "cell_type": "markdown",
   "metadata": {},
   "source": [
    "## Регуляризация"
   ]
  },
  {
   "cell_type": "markdown",
   "metadata": {},
   "source": [
    "### Ridge Regression (регуляризация L2)"
   ]
  },
  {
   "cell_type": "markdown",
   "metadata": {},
   "source": [
    "$ Loss = \\sum_{i=1}^m (y_i - \\beta_0 - \\sum_{j=1}^n x_{i,j}\\beta_j) ^ 2 + \\alpha \\sum_{j=1}^n \\beta_j^2 $\n",
    "\n",
    "$ \\hat \\beta_{ridge} = (X'X + \\alpha^{*} I) ^ {-1} X' \\vec y $, где $ \\alpha^{*} $ — вектор $ (0, \\alpha) $, $I$ — единичная матрица.\n",
    "\n",
    "$\\alpha$ — параметр регуляризации. Чем он больше, тем выше штраф за сложность модели."
   ]
  },
  {
   "cell_type": "markdown",
   "metadata": {},
   "source": [
    "#### Иллюстрация изменения значений коэффициентов под действием регуляризации"
   ]
  },
  {
   "cell_type": "code",
   "execution_count": 5,
   "metadata": {
    "scrolled": false
   },
   "outputs": [],
   "source": [
    "from sklearn.linear_model import Ridge\n",
    "from sklearn.preprocessing import StandardScaler\n",
    "\n",
    "X = data.drop(target_name, axis=1)\n",
    "m, n = X.shape\n",
    "columns = list(X.columns)\n",
    "\n",
    "# нормировка, чтобы значения коэффициентов были сопоставимы\n",
    "scaler = StandardScaler().fit(X)\n",
    "X = scaler.transform(X)\n",
    "\n",
    "n_models = 1000\n",
    "alphas = np.logspace(-2, 4, n_models) # сетка значений параметра регуляризации\n",
    "coefs = np.zeros((n_models, n + 1), np.float64)\n",
    "\n",
    "for i in range(n_models):\n",
    "    ridge = Ridge(alpha=alphas[i])\n",
    "    ridge.fit(X, y)\n",
    "    coefs[i, 0] = deepcopy(ridge.intercept_)\n",
    "    coefs[i, 1:] = deepcopy(ridge.coef_)"
   ]
  },
  {
   "cell_type": "code",
   "execution_count": 6,
   "metadata": {},
   "outputs": [
    {
     "data": {
      "image/png": "[encoded data removed]",
      "text/plain": [
       "<matplotlib.figure.Figure at 0x1db0d564f98>"
      ]
     },
     "metadata": {},
     "output_type": "display_data"
    }
   ],
   "source": [
    "import matplotlib.pyplot as plt\n",
    "\n",
    "fig = plt.figure(figsize=(20, 10))\n",
    "ax = fig.add_subplot(111)\n",
    "for j in range(n):\n",
    "    ax.semilogx(alphas, coefs[:, j + 1], '-', label=columns[j])\n",
    "plt.legend()\n",
    "plt.show()"
   ]
  },
  {
   "cell_type": "markdown",
   "metadata": {},
   "source": [
    "### Lasso Regression (регуляризация L1)"
   ]
  },
  {
   "cell_type": "markdown",
   "metadata": {},
   "source": [
    "$ Loss = \\sum_{i=1}^m (y_i - \\beta_0 - \\sum_{j=1}^n x_{i,j}\\beta_j) ^ 2 + \\alpha \\sum_{j=1}^n |\\beta_j| $\n",
    "\n",
    "$\\alpha$ — параметр регуляризации. Чем он больше, тем выше штраф за сложность модели.\n",
    "\n",
    "Для коэффициентов $\\hat \\beta_{lasso}$ нет аналитической формулы. Задача оптимизации решается численно."
   ]
  },
  {
   "cell_type": "markdown",
   "metadata": {},
   "source": [
    "#### Иллюстрация изменения значений коэффициентов под действием регуляризации"
   ]
  },
  {
   "cell_type": "code",
   "execution_count": 7,
   "metadata": {
    "scrolled": false
   },
   "outputs": [],
   "source": [
    "from sklearn.linear_model import Lasso\n",
    "from sklearn.preprocessing import StandardScaler\n",
    "\n",
    "X = data.drop(target_name, axis=1)\n",
    "m, n = X.shape\n",
    "columns = list(X.columns)\n",
    "\n",
    "# нормировка, чтобы значения коэффициентов были сопоставимы\n",
    "scaler = StandardScaler().fit(X)\n",
    "X = scaler.transform(X)\n",
    "\n",
    "n_models = 1000\n",
    "alphas = np.logspace(-4, 1, n_models) # сетка значений параметра регуляризации\n",
    "coefs = np.zeros((n_models, n + 1), np.float64)\n",
    "\n",
    "for i in range(n_models):\n",
    "    ridge = Lasso(alpha=alphas[i])\n",
    "    ridge.fit(X, y)\n",
    "    coefs[i, 0] = deepcopy(ridge.intercept_)\n",
    "    coefs[i, 1:] = deepcopy(ridge.coef_)"
   ]
  },
  {
   "cell_type": "code",
   "execution_count": 8,
   "metadata": {},
   "outputs": [
    {
     "data": {
      "image/png": "[encoded data removed]",
      "text/plain": [
       "<matplotlib.figure.Figure at 0x1db102c2390>"
      ]
     },
     "metadata": {},
     "output_type": "display_data"
    }
   ],
   "source": [
    "import matplotlib.pyplot as plt\n",
    "\n",
    "fig = plt.figure(figsize=(20, 10))\n",
    "ax = fig.add_subplot(111)\n",
    "for j in range(n):\n",
    "    ax.semilogx(alphas, coefs[:, j + 1], '-', label=columns[j])\n",
    "plt.legend()\n",
    "plt.show()"
   ]
  },
  {
   "cell_type": "markdown",
   "metadata": {},
   "source": [
    "## Снижение размерности: метод главных компонент"
   ]
  },
  {
   "cell_type": "markdown",
   "metadata": {},
   "source": [
    "Идея состоит в замене исходной матрицы регрессоров X на матрицу их линейных комбинаций Z. Каждый из новых признаков объясняет некоторую часть изменчивости Х, так что мы можем включать в модель только самые информативные из новых признаков.\n",
    "\n",
    "$Z_{pc}$ — матрица главных компонент $X$:\n",
    "\n",
    "$Z_{pc} = XV$, где $V$ — матрица собственных векторов $X'X$ (по столбцам)\n",
    "\n",
    "Новая матрица регрессоров $Z$ составляется из $p$ столбцов матрицы $Z_{pc}$\n",
    "\n",
    "$\\hat \\beta_{pcr} = (Z'Z)^{-1}Z'y$ — оценки коэффициентов регрессии главных компонент\n",
    "\n",
    "Порядок главных компонент $Z_{pc}$ отражает степень их вляиния на дисперсию признаков, но их влияние на дисперсию целевой переменной может быть иным. Поэтому бывает полезным переставить столбцы $Z_{pc}$ в соответствии с их влиянием на $y$."
   ]
  },
  {
   "cell_type": "code",
   "execution_count": 9,
   "metadata": {},
   "outputs": [
    {
     "data": {
      "text/plain": [
       "array([1.15194807e-02, 4.11429008e-03, 1.86465522e-01, 1.79261872e-02,\n",
       "       2.73228541e-01, 2.42793608e-01, 1.08639375e-04])"
      ]
     },
     "execution_count": 9,
     "metadata": {},
     "output_type": "execute_result"
    }
   ],
   "source": [
    "from sklearn.decomposition import PCA\n",
    "from sklearn.metrics import r2_score\n",
    "from sklearn.linear_model import LinearRegression\n",
    "\n",
    "X = data.drop(target_name, axis=1)\n",
    "m, n = X.shape\n",
    "\n",
    "pca = PCA().fit(X)\n",
    "Z = pca.transform(X)\n",
    "\n",
    "# проверим, насколько каждая из главных компонент объясняет дисперсию у\n",
    "r2 = np.zeros(n, np.float64)\n",
    "lr = LinearRegression()\n",
    "for j in range(n):\n",
    "    lr.fit(Z[:, j].reshape(-1, 1), y)\n",
    "    r2[j] = r2_score(y_true=y, y_pred=lr.predict(Z[:, j].reshape(-1, 1)))\n",
    "    \n",
    "r2"
   ]
  },
  {
   "cell_type": "code",
   "execution_count": 10,
   "metadata": {},
   "outputs": [
    {
     "data": {
      "image/png": "[encoded data removed]",
      "text/plain": [
       "<matplotlib.figure.Figure at 0x1db0f16a160>"
      ]
     },
     "metadata": {},
     "output_type": "display_data"
    }
   ],
   "source": [
    "# переставим стобцы Z в соответствии с их вкладом в модель\n",
    "Z = Z[:, r2.argsort()[::-1]]\n",
    "r2_cum = np.zeros(n, np.float64)\n",
    "\n",
    "for j in range(n):\n",
    "    z = Z[:, :j + 1]\n",
    "    if len(z.shape) == 1: z = z.reshape(-1, 1)\n",
    "    lr.fit(z, y)\n",
    "    r2_cum[j] = r2_score(y_true=y, y_pred=lr.predict(z))\n",
    "\n",
    "fig = plt.figure(figsize=(10, 5))\n",
    "ax = fig.add_subplot(111)\n",
    "ax.plot(np.arange(n) + 1, r2_cum, '-')\n",
    "plt.xlabel('Num. of principal components')\n",
    "plt.ylabel('R-squared value')\n",
    "plt.show()"
   ]
  },
  {
   "cell_type": "markdown",
   "metadata": {},
   "source": [
    "## Библиотека для определения значимости факторов в модели \"черного ящика\""
   ]
  },
  {
   "cell_type": "code",
   "execution_count": 11,
   "metadata": {},
   "outputs": [
    {
     "name": "stderr",
     "output_type": "stream",
     "text": [
      "100%|██████████████████████████████████████████████████████████████████████████████████| 50/50 [00:01<00:00, 30.26it/s]\n"
     ]
    },
    {
     "name": "stdout",
     "output_type": "stream",
     "text": [
      "Shap values shape: (50, 7)\n"
     ]
    }
   ],
   "source": [
    "import shap\n",
    "\n",
    "X = data.drop(target_name, axis=1)\n",
    "\n",
    "model = AugmentedLinearRegression()\n",
    "model.fit(X, y)\n",
    "\n",
    "explainer = shap.KernelExplainer(model.predict, X)\n",
    "shap_values = explainer.shap_values(X)\n",
    "print(\"Shap values shape:\", shap_values.shape)"
   ]
  },
  {
   "cell_type": "markdown",
   "metadata": {},
   "source": [
    "Если мы сложим значения _shap values_ по столбцам, то получим прогноз целевой переменной с точностью до константы. Таким образом, величины _shap values_ представляют собой вклады факторов в прогнозное значение целевой переменной.\n",
    "\n",
    "Оценить значимость признаков можно, например, найдя их средний абсолютный вклад по всем наблюдениям."
   ]
  },
  {
   "cell_type": "code",
   "execution_count": 12,
   "metadata": {},
   "outputs": [
    {
     "data": {
      "text/plain": [
       "array([70.8786, 70.8786, 70.8786, 70.8786, 70.8786, 70.8786, 70.8786,\n",
       "       70.8786, 70.8786, 70.8786, 70.8786, 70.8786, 70.8786, 70.8786,\n",
       "       70.8786, 70.8786, 70.8786, 70.8786, 70.8786, 70.8786, 70.8786,\n",
       "       70.8786, 70.8786, 70.8786, 70.8786, 70.8786, 70.8786, 70.8786,\n",
       "       70.8786, 70.8786, 70.8786, 70.8786, 70.8786, 70.8786, 70.8786,\n",
       "       70.8786, 70.8786, 70.8786, 70.8786, 70.8786, 70.8786, 70.8786,\n",
       "       70.8786, 70.8786, 70.8786, 70.8786, 70.8786, 70.8786, 70.8786,\n",
       "       70.8786])"
      ]
     },
     "execution_count": 12,
     "metadata": {},
     "output_type": "execute_result"
    }
   ],
   "source": [
    "model.predict(X) - shap_values.sum(1)"
   ]
  },
  {
   "cell_type": "code",
   "execution_count": 13,
   "metadata": {},
   "outputs": [
    {
     "data": {
      "text/html": [
       "<div>\n",
       "<style scoped>\n",
       "    .dataframe tbody tr th:only-of-type {\n",
       "        vertical-align: middle;\n",
       "    }\n",
       "\n",
       "    .dataframe tbody tr th {\n",
       "        vertical-align: top;\n",
       "    }\n",
       "\n",
       "    .dataframe thead th {\n",
       "        text-align: right;\n",
       "    }\n",
       "</style>\n",
       "<table border=\"1\" class=\"dataframe\">\n",
       "  <thead>\n",
       "    <tr style=\"text-align: right;\">\n",
       "      <th></th>\n",
       "      <th>relative_importance</th>\n",
       "    </tr>\n",
       "  </thead>\n",
       "  <tbody>\n",
       "    <tr>\n",
       "      <th>Population</th>\n",
       "      <td>0.094122</td>\n",
       "    </tr>\n",
       "    <tr>\n",
       "      <th>Income</th>\n",
       "      <td>0.006200</td>\n",
       "    </tr>\n",
       "    <tr>\n",
       "      <th>Illiteracy</th>\n",
       "      <td>0.010071</td>\n",
       "    </tr>\n",
       "    <tr>\n",
       "      <th>Murder</th>\n",
       "      <td>0.561110</td>\n",
       "    </tr>\n",
       "    <tr>\n",
       "      <th>HS.Grad</th>\n",
       "      <td>0.183125</td>\n",
       "    </tr>\n",
       "    <tr>\n",
       "      <th>Frost</th>\n",
       "      <td>0.143446</td>\n",
       "    </tr>\n",
       "    <tr>\n",
       "      <th>Area</th>\n",
       "      <td>0.001926</td>\n",
       "    </tr>\n",
       "  </tbody>\n",
       "</table>\n",
       "</div>"
      ],
      "text/plain": [
       "            relative_importance\n",
       "Population             0.094122\n",
       "Income                 0.006200\n",
       "Illiteracy             0.010071\n",
       "Murder                 0.561110\n",
       "HS.Grad                0.183125\n",
       "Frost                  0.143446\n",
       "Area                   0.001926"
      ]
     },
     "execution_count": 13,
     "metadata": {},
     "output_type": "execute_result"
    }
   ],
   "source": [
    "features_importance = np.abs(shap_values).sum(0)\n",
    "features_importance /= features_importance.sum()\n",
    "\n",
    "pd.DataFrame(features_importance.reshape(-1, 1), index=X.columns, columns=['relative_importance'])"
   ]
  }
 ],
 "metadata": {
  "kernelspec": {
   "display_name": "Python 3",
   "language": "python",
   "name": "python3"
  },
  "language_info": {
   "codemirror_mode": {
    "name": "ipython",
    "version": 3
   },
   "file_extension": ".py",
   "mimetype": "text/x-python",
   "name": "python",
   "nbconvert_exporter": "python",
   "pygments_lexer": "ipython3",
   "version": "3.6.3"
  }
 },
 "nbformat": 4,
 "nbformat_minor": 2
}
