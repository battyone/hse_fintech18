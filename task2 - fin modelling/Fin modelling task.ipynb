{
 "cells": [
  {
   "cell_type": "code",
   "execution_count": 1,
   "metadata": {},
   "outputs": [],
   "source": [
    "import numpy as np\n",
    "import pandas as pd\n",
    "from sklearn.linear_model import LinearRegression\n",
    "\n",
    "import matplotlib.pyplot as plt\n",
    "import seaborn as sns\n",
    "% matplotlib inline"
   ]
  },
  {
   "cell_type": "markdown",
   "metadata": {},
   "source": [
    "# Данные"
   ]
  },
  {
   "cell_type": "code",
   "execution_count": 2,
   "metadata": {},
   "outputs": [
    {
     "data": {
      "text/html": [
       "<div>\n",
       "<style scoped>\n",
       "    .dataframe tbody tr th:only-of-type {\n",
       "        vertical-align: middle;\n",
       "    }\n",
       "\n",
       "    .dataframe tbody tr th {\n",
       "        vertical-align: top;\n",
       "    }\n",
       "\n",
       "    .dataframe thead th {\n",
       "        text-align: right;\n",
       "    }\n",
       "</style>\n",
       "<table border=\"1\" class=\"dataframe\">\n",
       "  <thead>\n",
       "    <tr style=\"text-align: right;\">\n",
       "      <th></th>\n",
       "      <th>Revenue(mln rub)</th>\n",
       "      <th>Natural Gas (usd/m3)</th>\n",
       "      <th>usd/rub</th>\n",
       "      <th>eur/rub</th>\n",
       "    </tr>\n",
       "  </thead>\n",
       "  <tbody>\n",
       "    <tr>\n",
       "      <th>1999</th>\n",
       "      <td>4.623440e+05</td>\n",
       "      <td>2.329</td>\n",
       "      <td>27</td>\n",
       "      <td>NaN</td>\n",
       "    </tr>\n",
       "    <tr>\n",
       "      <th>2000</th>\n",
       "      <td>5.848990e+05</td>\n",
       "      <td>9.775</td>\n",
       "      <td>28</td>\n",
       "      <td>NaN</td>\n",
       "    </tr>\n",
       "    <tr>\n",
       "      <th>2001</th>\n",
       "      <td>6.663913e+05</td>\n",
       "      <td>2.570</td>\n",
       "      <td>30</td>\n",
       "      <td>NaN</td>\n",
       "    </tr>\n",
       "    <tr>\n",
       "      <th>2002</th>\n",
       "      <td>7.258023e+05</td>\n",
       "      <td>4.789</td>\n",
       "      <td>32</td>\n",
       "      <td>NaN</td>\n",
       "    </tr>\n",
       "    <tr>\n",
       "      <th>2003</th>\n",
       "      <td>8.137387e+05</td>\n",
       "      <td>6.189</td>\n",
       "      <td>29</td>\n",
       "      <td>NaN</td>\n",
       "    </tr>\n",
       "    <tr>\n",
       "      <th>2004</th>\n",
       "      <td>1.060025e+06</td>\n",
       "      <td>6.149</td>\n",
       "      <td>28</td>\n",
       "      <td>NaN</td>\n",
       "    </tr>\n",
       "    <tr>\n",
       "      <th>2005</th>\n",
       "      <td>1.504144e+06</td>\n",
       "      <td>11.225</td>\n",
       "      <td>29</td>\n",
       "      <td>34.0</td>\n",
       "    </tr>\n",
       "    <tr>\n",
       "      <th>2006</th>\n",
       "      <td>1.986300e+06</td>\n",
       "      <td>5.740</td>\n",
       "      <td>26</td>\n",
       "      <td>35.0</td>\n",
       "    </tr>\n",
       "    <tr>\n",
       "      <th>2007</th>\n",
       "      <td>2.620281e+06</td>\n",
       "      <td>7.483</td>\n",
       "      <td>25</td>\n",
       "      <td>36.0</td>\n",
       "    </tr>\n",
       "    <tr>\n",
       "      <th>2008</th>\n",
       "      <td>2.899911e+06</td>\n",
       "      <td>5.622</td>\n",
       "      <td>29</td>\n",
       "      <td>41.0</td>\n",
       "    </tr>\n",
       "    <tr>\n",
       "      <th>2009</th>\n",
       "      <td>3.291180e+06</td>\n",
       "      <td>5.572</td>\n",
       "      <td>30</td>\n",
       "      <td>43.0</td>\n",
       "    </tr>\n",
       "    <tr>\n",
       "      <th>2010</th>\n",
       "      <td>3.709798e+06</td>\n",
       "      <td>4.405</td>\n",
       "      <td>30</td>\n",
       "      <td>41.0</td>\n",
       "    </tr>\n",
       "    <tr>\n",
       "      <th>2011</th>\n",
       "      <td>4.268702e+06</td>\n",
       "      <td>2.989</td>\n",
       "      <td>32</td>\n",
       "      <td>42.0</td>\n",
       "    </tr>\n",
       "    <tr>\n",
       "      <th>2012</th>\n",
       "      <td>4.784817e+06</td>\n",
       "      <td>3.351</td>\n",
       "      <td>30</td>\n",
       "      <td>40.0</td>\n",
       "    </tr>\n",
       "    <tr>\n",
       "      <th>2013</th>\n",
       "      <td>5.134308e+06</td>\n",
       "      <td>4.230</td>\n",
       "      <td>33</td>\n",
       "      <td>45.0</td>\n",
       "    </tr>\n",
       "    <tr>\n",
       "      <th>2014</th>\n",
       "      <td>5.602842e+06</td>\n",
       "      <td>2.889</td>\n",
       "      <td>56</td>\n",
       "      <td>72.0</td>\n",
       "    </tr>\n",
       "    <tr>\n",
       "      <th>2015</th>\n",
       "      <td>5.924727e+06</td>\n",
       "      <td>2.337</td>\n",
       "      <td>73</td>\n",
       "      <td>81.0</td>\n",
       "    </tr>\n",
       "    <tr>\n",
       "      <th>2016</th>\n",
       "      <td>6.243490e+06</td>\n",
       "      <td>3.724</td>\n",
       "      <td>61</td>\n",
       "      <td>64.0</td>\n",
       "    </tr>\n",
       "  </tbody>\n",
       "</table>\n",
       "</div>"
      ],
      "text/plain": [
       "      Revenue(mln rub)  Natural Gas (usd/m3)  usd/rub  eur/rub\n",
       "1999      4.623440e+05                 2.329       27      NaN\n",
       "2000      5.848990e+05                 9.775       28      NaN\n",
       "2001      6.663913e+05                 2.570       30      NaN\n",
       "2002      7.258023e+05                 4.789       32      NaN\n",
       "2003      8.137387e+05                 6.189       29      NaN\n",
       "2004      1.060025e+06                 6.149       28      NaN\n",
       "2005      1.504144e+06                11.225       29     34.0\n",
       "2006      1.986300e+06                 5.740       26     35.0\n",
       "2007      2.620281e+06                 7.483       25     36.0\n",
       "2008      2.899911e+06                 5.622       29     41.0\n",
       "2009      3.291180e+06                 5.572       30     43.0\n",
       "2010      3.709798e+06                 4.405       30     41.0\n",
       "2011      4.268702e+06                 2.989       32     42.0\n",
       "2012      4.784817e+06                 3.351       30     40.0\n",
       "2013      5.134308e+06                 4.230       33     45.0\n",
       "2014      5.602842e+06                 2.889       56     72.0\n",
       "2015      5.924727e+06                 2.337       73     81.0\n",
       "2016      6.243490e+06                 3.724       61     64.0"
      ]
     },
     "execution_count": 2,
     "metadata": {},
     "output_type": "execute_result"
    }
   ],
   "source": [
    "df = pd.read_csv('gazprom_data.csv', header=0, index_col=0)\n",
    "df"
   ]
  },
  {
   "cell_type": "markdown",
   "metadata": {},
   "source": [
    "# Построим простую модель выручки"
   ]
  },
  {
   "cell_type": "code",
   "execution_count": 3,
   "metadata": {},
   "outputs": [],
   "source": [
    "df['Diff Revenue(mln rub)'] = df['Revenue(mln rub)'].diff()\n",
    "data = df.loc[2005:]\n",
    "train_test_split_index = 2014\n",
    "data_train = data.loc[:train_test_split_index]\n",
    "data_test = data.loc[train_test_split_index:].iloc[1:]"
   ]
  },
  {
   "cell_type": "code",
   "execution_count": 4,
   "metadata": {},
   "outputs": [
    {
     "data": {
      "text/plain": [
       "Text(0.5,1,'Diff Revenue(mln rub) predict')"
      ]
     },
     "execution_count": 4,
     "metadata": {},
     "output_type": "execute_result"
    },
    {
     "data": {
      "image/png": "[encoded data removed]",
      "text/plain": [
       "<Figure size 432x288 with 1 Axes>"
      ]
     },
     "metadata": {},
     "output_type": "display_data"
    }
   ],
   "source": [
    "X_columns = ['Natural Gas (usd/m3)', 'usd/rub', 'eur/rub']\n",
    "y_column = 'Diff Revenue(mln rub)'\n",
    "model = LinearRegression()\n",
    "model.fit(X=data_train[X_columns], y=data_train[y_column])\n",
    "model_forecast = model.predict(X=data[X_columns])\n",
    "model_forecast = pd.Series(index=data.index, name='{} model'.format(y_column), data=model_forecast)\n",
    "\n",
    "# PLOT PREDICTIONS\n",
    "fig, ax = plt.subplots()\n",
    "data_train[y_column].plot(ax=ax, style='o-', label='{} train'.format(y_column))\n",
    "data.loc[train_test_split_index:][y_column].plot(ax=ax, style='o-', label='{} test'.format(y_column))\n",
    "model_forecast.plot(ax=ax, style='o--', label=model_forecast.name)\n",
    "ax.legend()\n",
    "ax.set_title('{} predict'.format(y_column))"
   ]
  },
  {
   "cell_type": "code",
   "execution_count": 5,
   "metadata": {},
   "outputs": [
    {
     "data": {
      "text/plain": [
       "(<matplotlib.legend.Legend at 0x27512f83cf8>,\n",
       " Text(0.5,1,'Revenue(mln rub) forecast'))"
      ]
     },
     "execution_count": 5,
     "metadata": {},
     "output_type": "execute_result"
    },
    {
     "data": {
      "image/png": "[encoded data removed]",
      "text/plain": [
       "<Figure size 432x288 with 1 Axes>"
      ]
     },
     "metadata": {},
     "output_type": "display_data"
    }
   ],
   "source": [
    "revenue_forecast = model_forecast.to_frame()\n",
    "revenue_forecast['Revenue forecast'] = None\n",
    "for i in revenue_forecast.index[1:]:\n",
    "    revenue_forecast.at[i, 'Revenue forecast'] = data.loc[i-1]['Revenue(mln rub)'] + revenue_forecast.loc[i]['Diff Revenue(mln rub) model']\n",
    "    \n",
    "fig, ax = plt.subplots()\n",
    "data['Revenue(mln rub)'].plot(ax=ax, style='o-')\n",
    "revenue_forecast['Revenue forecast'].loc[train_test_split_index:].plot(ax=ax, style='o--', label='forecast (test)')\n",
    "revenue_forecast['Revenue forecast'].loc[:train_test_split_index].plot(ax=ax, style='o--', label='forecast (train)')\n",
    "ax.legend(), ax.set_title('Revenue(mln rub) forecast')"
   ]
  },
  {
   "cell_type": "markdown",
   "metadata": {},
   "source": [
    "# Задание\n",
    "1. Что не так с моделью выше? (опишите в двух-трех предложениях)\n",
    "2. На имеющихся данных постройте модель выручки, устойчивую с точки зрения сценарного моделирования"
   ]
  }
 ],
 "metadata": {
  "kernelspec": {
   "display_name": "Python 3",
   "language": "python",
   "name": "python3"
  },
  "language_info": {
   "codemirror_mode": {
    "name": "ipython",
    "version": 3
   },
   "file_extension": ".py",
   "mimetype": "text/x-python",
   "name": "python",
   "nbconvert_exporter": "python",
   "pygments_lexer": "ipython3",
   "version": "3.6.5"
  }
 },
 "nbformat": 4,
 "nbformat_minor": 2
}
